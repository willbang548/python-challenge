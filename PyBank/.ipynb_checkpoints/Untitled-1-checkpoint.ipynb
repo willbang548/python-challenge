{
 "cells": [
  {
   "cell_type": "code",
   "execution_count": 1,
   "metadata": {},
   "outputs": [
    {
     "name": "stdout",
     "output_type": "stream",
     "text": [
      "      Date  Profit/Losses\n",
      "0   Jan-10        1088983\n",
      "1   Feb-10        -354534\n",
      "2   Mar-10         276622\n",
      "3   Apr-10        -728133\n",
      "4   May-10         852993\n",
      "..     ...            ...\n",
      "81  Oct-16        -729004\n",
      "82  Nov-16        -112209\n",
      "83  Dec-16         516313\n",
      "84  Jan-17         607208\n",
      "85  Feb-17         382539\n",
      "\n",
      "[86 rows x 2 columns]\n",
      "86\n"
     ]
    }
   ],
   "source": [
    "\n",
    "#Financial Analysis\n",
    "#----------------------------\n",
    "#Total Months: 86\n",
    "#Total: $22564198\n",
    "#Average Change: $-8311.11\n",
    "#Greatest Increase in Profits: Aug-16 ($1862002)\n",
    "#Greatest Decrease in Profits: Feb-14 ($-1825558)\n",
    "import os\n",
    "import pandas as pd\n",
    " \n",
    "\n",
    "path_to_file = os.path.join(\"Resources\",\"budget_data.csv\")\n",
    "bank_bugdet = pd.read_csv(path_to_file)\n",
    "print(bank_bugdet)\n",
    "#The total number of months included in the dataset\n",
    "month_num = bank_bugdet.shape[0]\n",
    "print(month_num)\n"
   ]
  },
  {
   "cell_type": "code",
   "execution_count": 2,
   "metadata": {},
   "outputs": [
    {
     "name": "stdout",
     "output_type": "stream",
     "text": [
      "22564198\n"
     ]
    }
   ],
   "source": [
    "#The net total amount of \"Profit/Losses\" over the entire period\n",
    "total = bank_bugdet['Profit/Losses'].sum()\n",
    "print(total)\n"
   ]
  },
  {
   "cell_type": "code",
   "execution_count": 3,
   "metadata": {},
   "outputs": [
    {
     "name": "stdout",
     "output_type": "stream",
     "text": [
      "-8311.105882352942\n"
     ]
    }
   ],
   "source": [
    "#The changes in \"Profit/Losses\" over the entire period, and then the average of those changes\n",
    "bank_bugdet['Profit/Losses Change'] = bank_bugdet['Profit/Losses'] - bank_bugdet['Profit/Losses'].shift(1)\n",
    "\n",
    "avg_change = bank_bugdet['Profit/Losses Change'].mean()\n",
    "\n",
    "print(avg_change)\n",
    "\n",
    "#The greatest increase in profits (date and amount) over the entire period\n",
    "\n",
    "#The greatest decrease in profits (date and amount) over the entire period"
   ]
  },
  {
   "cell_type": "code",
   "execution_count": null,
   "metadata": {},
   "outputs": [],
   "source": []
  }
 ],
 "metadata": {
  "kernelspec": {
   "display_name": "base",
   "language": "python",
   "name": "python3"
  },
  "language_info": {
   "codemirror_mode": {
    "name": "ipython",
    "version": 3
   },
   "file_extension": ".py",
   "mimetype": "text/x-python",
   "name": "python",
   "nbconvert_exporter": "python",
   "pygments_lexer": "ipython3",
   "version": "3.9.13"
  },
  "orig_nbformat": 4
 },
 "nbformat": 4,
 "nbformat_minor": 2
}
