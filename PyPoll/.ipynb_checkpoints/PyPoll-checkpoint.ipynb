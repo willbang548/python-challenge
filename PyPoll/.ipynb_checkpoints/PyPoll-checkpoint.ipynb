{
 "cells": [
  {
   "cell_type": "code",
   "execution_count": 2,
   "id": "72d72125-c74f-4c1f-8211-15cedab1bcde",
   "metadata": {},
   "outputs": [
    {
     "name": "stdout",
     "output_type": "stream",
     "text": [
      "Diana DeGette              272892\n",
      "Charles Casper Stockham     85213\n",
      "Raymon Anthony Doane        11606\n",
      "Name: Candidate, dtype: int64\n",
      "Election Results\n",
      "-------------------------\n",
      "Total Votes: 369711\n",
      "-------------------------\n",
      "Charles Casper Stockham: 23.049% (85213)\n",
      "Diana DeGette: 73.812% (272892)\n",
      "Raymon Anthony Doane: 3.139% (11606)\n",
      "-------------------------\n",
      "Winner: Diana DeGette\n",
      "-------------------------\n"
     ]
    }
   ],
   "source": [
    "# Import the necessary libraries\n",
    "import pandas as pd\n",
    "import os\n",
    "\n",
    "# Define the path to the election_data.csv file\n",
    "file_path = os.path.join(\"Resources\", \"election_data.csv\")\n",
    "\n",
    "# Read in the CSV file as a pandas dataframe\n",
    "df = pd.read_csv(file_path)\n",
    "\n",
    "# Calculate the total number of votes cast\n",
    "total_votes = len(df)\n",
    "\n",
    "# Get a list of candidates who received votes and calculate the number of votes each candidate won\n",
    "candidates = df[\"Candidate\"].unique()\n",
    "votes_per_candidate = df[\"Candidate\"].value_counts()\n",
    "print(votes_per_candidate)\n",
    "\n",
    "# Calculate the percentage of votes each candidate won\n",
    "vote_percentages = (votes_per_candidate / total_votes) * 100\n",
    "\n",
    "# Get the name of the winner based on popular vote\n",
    "winner = vote_percentages.idxmax()\n",
    "\n",
    "# Print the results to the terminal\n",
    "print(\"Election Results\")\n",
    "print(\"-------------------------\")\n",
    "print(f\"Total Votes: {total_votes}\")\n",
    "print(\"-------------------------\")\n",
    "for candidate in candidates:\n",
    "    vote_percentage = vote_percentages[candidate]\n",
    "    num_votes = votes_per_candidate[candidate]\n",
    "    print(f\"{candidate}: {vote_percentage:.3f}% ({num_votes})\")\n",
    "print(\"-------------------------\")\n",
    "print(f\"Winner: {winner}\")\n",
    "print(\"-------------------------\")\n",
    "\n",
    "# Write the results to a text file\n",
    "with open(\"election_results.txt\", \"w\") as text_file:\n",
    "    text_file.write(\"Election Results\\n\")\n",
    "    text_file.write(\"-------------------------\\n\")\n",
    "    text_file.write(f\"Total Votes: {total_votes}\\n\")\n",
    "    text_file.write(\"-------------------------\\n\")\n",
    "    for candidate in candidates:\n",
    "        vote_percentage = vote_percentages[candidate]\n",
    "        num_votes = votes_per_candidate[candidate]\n",
    "        text_file.write(f\"{candidate}: {vote_percentage:.3f}% ({num_votes})\\n\")\n",
    "    text_file.write(\"-------------------------\\n\")\n",
    "    text_file.write(f\"Winner: {winner}\\n\")\n",
    "    text_file.write(\"-------------------------\\n\")"
   ]
  },
  {
   "cell_type": "code",
   "execution_count": null,
   "id": "bc3c96e0-c476-4fb9-b64d-47db0bce7fe5",
   "metadata": {},
   "outputs": [],
   "source": []
  }
 ],
 "metadata": {
  "kernelspec": {
   "display_name": "Python 3 (ipykernel)",
   "language": "python",
   "name": "python3"
  },
  "language_info": {
   "codemirror_mode": {
    "name": "ipython",
    "version": 3
   },
   "file_extension": ".py",
   "mimetype": "text/x-python",
   "name": "python",
   "nbconvert_exporter": "python",
   "pygments_lexer": "ipython3",
   "version": "3.9.13"
  }
 },
 "nbformat": 4,
 "nbformat_minor": 5
}
